{
 "cells": [
  {
   "cell_type": "code",
   "execution_count": 1,
   "metadata": {
    "collapsed": true
   },
   "outputs": [],
   "source": [
    "import plotly \n",
    "plotly.tools.set_credentials_file(username='svural', api_key='hvuvqjqhzg')"
   ]
  },
  {
   "cell_type": "code",
   "execution_count": 2,
   "metadata": {
    "collapsed": false
   },
   "outputs": [
    {
     "ename": "PlotlyError",
     "evalue": "Looks like you are setting your plot privacy to both public and private.\n If you set world_readable as False, sharing can only be set to 'private' or 'secret'",
     "output_type": "error",
     "traceback": [
      "\u001b[0;31m---------------------------------------------------------------------------\u001b[0m",
      "\u001b[0;31mPlotlyError\u001b[0m                               Traceback (most recent call last)",
      "\u001b[0;32m<ipython-input-2-28e6c77cb611>\u001b[0m in \u001b[0;36m<module>\u001b[0;34m()\u001b[0m\n\u001b[0;32m----> 1\u001b[0;31m \u001b[0mplotly\u001b[0m\u001b[0;34m.\u001b[0m\u001b[0mtools\u001b[0m\u001b[0;34m.\u001b[0m\u001b[0mset_config_file\u001b[0m\u001b[0;34m(\u001b[0m\u001b[0mworld_readable\u001b[0m\u001b[0;34m=\u001b[0m\u001b[0mFalse\u001b[0m\u001b[0;34m,\u001b[0m\u001b[0msharing\u001b[0m\u001b[0;34m=\u001b[0m\u001b[0;34m'public'\u001b[0m\u001b[0;34m)\u001b[0m\u001b[0;34m\u001b[0m\u001b[0m\n\u001b[0m",
      "\u001b[0;32m/Users/vurals/anaconda/envs/my_plotly_try/lib/python2.7/site-packages/plotly/tools.pyc\u001b[0m in \u001b[0;36mset_config_file\u001b[0;34m(plotly_domain, plotly_streaming_domain, plotly_api_domain, plotly_ssl_verification, plotly_proxy_authorization, world_readable, sharing, auto_open)\u001b[0m\n\u001b[1;32m    243\u001b[0m     \u001b[0mensure_local_plotly_files\u001b[0m\u001b[0;34m(\u001b[0m\u001b[0;34m)\u001b[0m  \u001b[0;31m# make sure what's there is OK\u001b[0m\u001b[0;34m\u001b[0m\u001b[0m\n\u001b[1;32m    244\u001b[0m     utils.validate_world_readable_and_sharing_settings({\n\u001b[0;32m--> 245\u001b[0;31m         'sharing': sharing, 'world_readable': world_readable})\n\u001b[0m\u001b[1;32m    246\u001b[0m     \u001b[0msettings\u001b[0m \u001b[0;34m=\u001b[0m \u001b[0mget_config_file\u001b[0m\u001b[0;34m(\u001b[0m\u001b[0;34m)\u001b[0m\u001b[0;34m\u001b[0m\u001b[0m\n\u001b[1;32m    247\u001b[0m     \u001b[0;32mif\u001b[0m \u001b[0misinstance\u001b[0m\u001b[0;34m(\u001b[0m\u001b[0mplotly_domain\u001b[0m\u001b[0;34m,\u001b[0m \u001b[0msix\u001b[0m\u001b[0;34m.\u001b[0m\u001b[0mstring_types\u001b[0m\u001b[0;34m)\u001b[0m\u001b[0;34m:\u001b[0m\u001b[0;34m\u001b[0m\u001b[0m\n",
      "\u001b[0;32m/Users/vurals/anaconda/envs/my_plotly_try/lib/python2.7/site-packages/plotly/utils.pyc\u001b[0m in \u001b[0;36mvalidate_world_readable_and_sharing_settings\u001b[0;34m(option_set)\u001b[0m\n\u001b[1;32m    423\u001b[0m           option_set['sharing'] == 'public'):\n\u001b[1;32m    424\u001b[0m         raise PlotlyError(\n\u001b[0;32m--> 425\u001b[0;31m             \u001b[0;34m\"Looks like you are setting your plot privacy to both \"\u001b[0m\u001b[0;34m\u001b[0m\u001b[0m\n\u001b[0m\u001b[1;32m    426\u001b[0m             \u001b[0;34m\"public and private.\\n If you set world_readable as \"\u001b[0m\u001b[0;34m\u001b[0m\u001b[0m\n\u001b[1;32m    427\u001b[0m             \"False, sharing can only be set to 'private' or 'secret'\")\n",
      "\u001b[0;31mPlotlyError\u001b[0m: Looks like you are setting your plot privacy to both public and private.\n If you set world_readable as False, sharing can only be set to 'private' or 'secret'"
     ]
    }
   ],
   "source": [
    "plotly.tools.set_config_file(world_readable=False,sharing='public')"
   ]
  },
  {
   "cell_type": "code",
   "execution_count": null,
   "metadata": {
    "collapsed": true
   },
   "outputs": [],
   "source": []
  }
 ],
 "metadata": {
  "kernelspec": {
   "display_name": "Python [conda env:my_plotly_try]",
   "language": "python",
   "name": "conda-env-my_plotly_try-py"
  },
  "language_info": {
   "codemirror_mode": {
    "name": "ipython",
    "version": 2
   },
   "file_extension": ".py",
   "mimetype": "text/x-python",
   "name": "python",
   "nbconvert_exporter": "python",
   "pygments_lexer": "ipython2",
   "version": "2.7.12"
  }
 },
 "nbformat": 4,
 "nbformat_minor": 1
}
