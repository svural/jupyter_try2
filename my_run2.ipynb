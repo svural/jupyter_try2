{
 "cells": [
  {
   "cell_type": "code",
   "execution_count": null,
   "metadata": {
    "collapsed": false
   },
   "outputs": [],
   "source": [
    "import pandas as pd\n",
    "# df_Col2_results= pd.read_csv('./Col2_results.csv')\n",
    "df_Col2_results= pd.read_csv('https://raw.githubusercontent.com/svural/jupyter_try2/master/Col2_results.csv')\n",
    "# df_APOBEC3b_expresions=pd.read_csv('./APOBEC3b_expression.csv')\n",
    "df_APOBEC3b_expresions=pd.read_csv('https://raw.githubusercontent.com/svural/jupyter_try2/master/APOBEC3b_expression.csv')\n",
    "df_all_data=pd.concat([df_APOBEC3b_expresions,df_Col2_results],axis=1)\n",
    "# df_all_data=df_all_data.sort_values(['TP_workbench_baseline_Median'])"
   ]
  },
  {
   "cell_type": "code",
   "execution_count": null,
   "metadata": {
    "collapsed": false
   },
   "outputs": [],
   "source": [
    "from __future__ import print_function\n",
    "from ipywidgets import interact, interactive, fixed\n",
    "import ipywidgets as widgets\n",
    "\n",
    "\n",
    "import plotly as py\n",
    "import plotly.graph_objs as go\n",
    "\n",
    "# Create random data with numpy\n",
    "import numpy as np\n",
    "\n",
    "py.offline.init_notebook_mode()"
   ]
  },
  {
   "cell_type": "code",
   "execution_count": null,
   "metadata": {
    "collapsed": false
   },
   "outputs": [],
   "source": [
    "def slow_function3(win_size,Motif_threshold,Mutation,ThreePrime_side,AF_filter,dbSNP_filter):\n",
    "    col_name='x'+'_'.join([win_size,Motif_threshold,'T',Mutation,ThreePrime_side])+\\\n",
    "        '_dbsnp'+dbSNP_filter+'_AF'+AF_filter.replace('-','_').replace('.','')\n",
    "    col_name=col_name.replace('-','_')\n",
    "    \n",
    "    \n",
    "    trace = go.Scatter(\n",
    "        x = [item*10 for item in df_all_data.TP_workbench_baseline_Median.tolist()],\n",
    "        y = df_all_data[col_name].tolist(),\n",
    "        mode = 'markers'\n",
    "    )\n",
    "    data = [trace]\n",
    "    \n",
    "#     print(col_name)\n",
    "#     print(df_all_data.TP_workbench_baseline_Median.tolist()[:5])\n",
    "#     print(df_all_data[col_name].tolist()[:5])\n",
    "    \n",
    "    \n",
    "    py.offline.iplot(data, filename='basic-scatter')\n",
    "    return"
   ]
  },
  {
   "cell_type": "code",
   "execution_count": null,
   "metadata": {
    "collapsed": false,
    "scrolled": true
   },
   "outputs": [],
   "source": [
    "interact(slow_function3,\n",
    "         win_size=('1000','10000'),\n",
    "         Motif_threshold=('5','6'),\n",
    "         Mutation=('C-GT','C-AGT'),\n",
    "         ThreePrime_side=('AT','ATG','ACTG'),\n",
    "         AF_filter={'No filter':'1','1%':'0.01','5%':'0.05'},\n",
    "         dbSNP_filter={'Filter':'yes','Do not filter':'no'},\n",
    "         continuous_update=False\n",
    "        )"
   ]
  }
 ],
 "metadata": {
  "anaconda-cloud": {},
  "kernelspec": {
   "display_name": "Python [conda env:my_plotly_try]",
   "language": "python",
   "name": "conda-env-my_plotly_try-py"
  },
  "language_info": {
   "codemirror_mode": {
    "name": "ipython",
    "version": 2
   },
   "file_extension": ".py",
   "mimetype": "text/x-python",
   "name": "python",
   "nbconvert_exporter": "python",
   "pygments_lexer": "ipython2",
   "version": "2.7.12"
  }
 },
 "nbformat": 4,
 "nbformat_minor": 1
}
