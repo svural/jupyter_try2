{
 "cells": [
  {
   "cell_type": "code",
   "execution_count": 2,
   "metadata": {
    "collapsed": false
   },
   "outputs": [
    {
     "data": {
      "text/html": [
       "<iframe id=\"igraph\" scrolling=\"no\" style=\"border:none;\" seamless=\"seamless\" src=\"https://plot.ly/~svural/53.embed\" height=\"525px\" width=\"100%\"></iframe>"
      ],
      "text/plain": [
       "<plotly.tools.PlotlyDisplay object>"
      ]
     },
     "execution_count": 2,
     "metadata": {},
     "output_type": "execute_result"
    }
   ],
   "source": [
    "import plotly \n",
    "plotly.tools.set_credentials_file(username='svural', api_key='o0cg3r3z6g')\n",
    "\n",
    "import plotly.plotly as py\n",
    "from plotly.graph_objs import *\n",
    "\n",
    "\n",
    "trace0 = Scatter(\n",
    "    x=[1, 2, 3, 4],\n",
    "    y=[10, 15, 13, 17]\n",
    ")\n",
    "trace1 = Scatter(\n",
    "    x=[1, 2, 3, 4],\n",
    "    y=[16, 5, 11, 9]\n",
    ")\n",
    "data = Data([trace0, trace1])\n",
    "\n",
    "py.iplot(data, filename = 'basic-line')"
   ]
  },
  {
   "cell_type": "code",
   "execution_count": 5,
   "metadata": {
    "collapsed": true
   },
   "outputs": [],
   "source": [
    "import pandas as pd\n",
    "df_Col2_results= pd.read_csv('https://raw.githubusercontent.com/svural/jupyter_try2/master/Col2_results.csv')\n",
    "df_APOBEC3b_expresions=pd.read_csv('https://raw.githubusercontent.com/svural/jupyter_try2/master/APOBEC3b_expression.csv')\n",
    "df_all_data=pd.concat([df_APOBEC3b_expresions,df_Col2_results],axis=1)"
   ]
  },
  {
   "cell_type": "code",
   "execution_count": 12,
   "metadata": {
    "collapsed": true
   },
   "outputs": [],
   "source": [
    "def slow_function3(win_size,Motif_threshold,Mutation,ThreePrime_side,AF_filter,dbSNP_filter):\n",
    "    col_name='x'+'_'.join([win_size,Motif_threshold,'T',Mutation,ThreePrime_side])+\\\n",
    "        '_dbsnp'+dbSNP_filter+'_AF'+AF_filter.replace('-','_').replace('.','')\n",
    "    col_name=col_name.replace('-','_')\n",
    "    \n",
    "    trace = Scatter(\n",
    "        x = [item*10 for item in df_all_data.TP_workbench_baseline_Median.tolist()],\n",
    "        y = df_all_data[col_name].tolist(),\n",
    "        mode = 'markers'\n",
    "    )\n",
    "    data = Data([trace])\n",
    "\n",
    "#     print(col_name)\n",
    "#     print(df_all_data.TP_workbench_baseline_Median.tolist()[:5])\n",
    "#     print(df_all_data[col_name].tolist()[:5])\n",
    "\n",
    "    py.iplot(data, filename='basic-scatter')\n",
    "    return"
   ]
  },
  {
   "cell_type": "code",
   "execution_count": 13,
   "metadata": {
    "collapsed": false
   },
   "outputs": [],
   "source": [
    "from ipywidgets import interact, interactive\n",
    "w= interactive(slow_function3,\n",
    "         win_size=('1000','10000'),\n",
    "         Motif_threshold=('5','6'),\n",
    "         Mutation=('C-GT','C-AGT'),\n",
    "         ThreePrime_side=('AT','ATG','ACTG'),\n",
    "         AF_filter={'No filter':'1','1%':'0.01','5%':'0.05'},\n",
    "         dbSNP_filter={'Filter':'yes','Do not filter':'no'},\n",
    "         continuous_update=False\n",
    "        )\n",
    "from IPython.display import display\n",
    "display(w)"
   ]
  },
  {
   "cell_type": "code",
   "execution_count": 15,
   "metadata": {
    "collapsed": false
   },
   "outputs": [],
   "source": [
    "slow_function3('10000','5','C-AGT','ACTG','1','no')"
   ]
  },
  {
   "cell_type": "code",
   "execution_count": null,
   "metadata": {
    "collapsed": true
   },
   "outputs": [],
   "source": []
  }
 ],
 "metadata": {
  "kernelspec": {
   "display_name": "Python [conda env:my_plotly_try]",
   "language": "python",
   "name": "conda-env-my_plotly_try-py"
  },
  "language_info": {
   "codemirror_mode": {
    "name": "ipython",
    "version": 2
   },
   "file_extension": ".py",
   "mimetype": "text/x-python",
   "name": "python",
   "nbconvert_exporter": "python",
   "pygments_lexer": "ipython2",
   "version": "2.7.12"
  },
  "widgets": {
   "state": {
    "504271da015746b4a1db2998b6f7e169": {
     "views": [
      {
       "cell_index": 3
      }
     ]
    }
   },
   "version": "1.2.0"
  }
 },
 "nbformat": 4,
 "nbformat_minor": 1
}
